{
 "cells": [
  {
   "cell_type": "markdown",
   "id": "733a143d-f3bf-4a94-a593-819490b2c6e0",
   "metadata": {},
   "source": [
    "---\n",
    "title: Torah Recurring Neural Network Demo\n",
    "author: mad0perator\n",
    "date: 2025-02-16\n",
    "---"
   ]
  },
  {
   "cell_type": "code",
   "execution_count": 1,
   "id": "cafe3032-18ca-472c-a7ad-908daf710db7",
   "metadata": {},
   "outputs": [],
   "source": [
    "import numpy as np\n",
    "import pandas as pd\n",
    "import unicodedata2 as ucd\n",
    "from fastai.text.all import *"
   ]
  },
  {
   "cell_type": "code",
   "execution_count": 2,
   "id": "0a6ea4a3-d642-4acb-8e26-0d9e3f70d488",
   "metadata": {},
   "outputs": [],
   "source": [
    "HOST = \"https://github.com\"\n",
    "ORG = \"ETCBC\"\n",
    "REPO = \"bhsa\"\n",
    "APP = \"tf\"\n",
    "VERSION = \"2021\"\n",
    "FEATURE = \"g_cons_utf8\""
   ]
  },
  {
   "cell_type": "code",
   "execution_count": 3,
   "id": "9c8008e7-d57b-4a10-8b10-f0db5f39622c",
   "metadata": {},
   "outputs": [],
   "source": [
    "url = \"/\".join([HOST, ORG, REPO])"
   ]
  },
  {
   "cell_type": "code",
   "execution_count": 4,
   "id": "8645a6b1-f57a-4013-8c78-74a32d04b3a5",
   "metadata": {},
   "outputs": [],
   "source": [
    "!git clone {url}"
   ]
  },
  {
   "cell_type": "code",
   "execution_count": 5,
   "id": "eee01d34-b4dc-42f7-a694-ec84fa244c05",
   "metadata": {},
   "outputs": [],
   "source": [
    "prefix = \"/\".join([REPO, APP, VERSION, FEATURE])\n",
    "ext = APP\n",
    "path = \".\".join([prefix, ext])"
   ]
  },
  {
   "cell_type": "code",
   "execution_count": 6,
   "id": "2fdfbd52-c8c4-4bab-ae6e-cd1f21527eac",
   "metadata": {},
   "outputs": [],
   "source": [
    "with open(path, \"r\") as file:\n",
    "    doc = file.read()"
   ]
  },
  {
   "cell_type": "code",
   "execution_count": 7,
   "id": "2651d853-11e3-452a-b814-249b2ac4b2f1",
   "metadata": {},
   "outputs": [],
   "source": [
    "lines = doc.splitlines()\n",
    "header = lines.pop(0)\n",
    "assert header == \"@node\""
   ]
  },
  {
   "cell_type": "code",
   "execution_count": 8,
   "id": "3ce06d2e-f2a8-454a-a7bc-bb6e2143d93b",
   "metadata": {},
   "outputs": [],
   "source": [
    "tokens = []\n",
    "for line in lines:\n",
    "    if not line.startswith(\"@\") and len(line) > 0:\n",
    "        tokens.append(line)\n",
    "s = pd.Series(tokens, name=\"token\", dtype=\"string\")"
   ]
  },
  {
   "cell_type": "code",
   "execution_count": 9,
   "id": "02f7181f-acf9-4403-8b57-d9fae347e319",
   "metadata": {},
   "outputs": [],
   "source": [
    "def remove_punct(token: str) -> str:\n",
    "    return \"\".join([c for c in token if ucd.category(c).startswith(\"L\")])"
   ]
  },
  {
   "cell_type": "code",
   "execution_count": 10,
   "id": "4065d2ab-4f55-488b-b033-e372bdcea2d9",
   "metadata": {},
   "outputs": [],
   "source": [
    "def tfm_no_punct(s: pd.Series) -> pd.Series:\n",
    "    return s.apply(remove_punct)"
   ]
  },
  {
   "cell_type": "code",
   "execution_count": 11,
   "id": "1b06df43-b883-4d97-8f0a-0e96a278f648",
   "metadata": {},
   "outputs": [],
   "source": [
    "s = s.pipe(tfm_no_punct)"
   ]
  },
  {
   "cell_type": "code",
   "execution_count": 12,
   "id": "3d774864-8ff3-4473-9f0c-5d760e16ccb7",
   "metadata": {},
   "outputs": [],
   "source": [
    "doc = \" . \".join(s)"
   ]
  },
  {
   "cell_type": "code",
   "execution_count": 13,
   "id": "2785cbae-1bd8-4e23-aa2b-3d33fa1c16ce",
   "metadata": {},
   "outputs": [],
   "source": [
    "tokenss = pd.Series(doc.split(\" \"))"
   ]
  },
  {
   "cell_type": "code",
   "execution_count": 14,
   "id": "5c7aad17-afeb-45f6-b8c1-077eccf36324",
   "metadata": {},
   "outputs": [],
   "source": [
    "vocab = {w: i for i, w in enumerate(tokenss.unique())}\n",
    "idx = tuple(tokenss.apply(vocab.get))"
   ]
  },
  {
   "cell_type": "code",
   "execution_count": 15,
   "id": "12d7af2e-f7b5-4dc9-b2b5-c085d26ea750",
   "metadata": {},
   "outputs": [],
   "source": [
    "seqs = list((tensor(idx[i:i+3]), idx[i+3]) for i in range(0, len(idx)-4, 3))"
   ]
  },
  {
   "cell_type": "code",
   "execution_count": 16,
   "id": "e2a1ce35-7853-4ceb-879b-950d59a36fa6",
   "metadata": {},
   "outputs": [],
   "source": [
    "class LMModel3(Module):\n",
    "    def __init__(self, vocab_sz, n_hidden):\n",
    "        self.i_h = nn.Embedding(vocab_sz, n_hidden)  \n",
    "        self.h_h = nn.Linear(n_hidden, n_hidden)     \n",
    "        self.h_o = nn.Linear(n_hidden, vocab_sz)\n",
    "        self.h = 0\n",
    "        \n",
    "    def forward(self, x):\n",
    "        for i in range(3):\n",
    "            self.h = self.h + self.i_h(x[:, i])\n",
    "            self.h = F.relu(self.h_h(self.h))\n",
    "        out = self.h_o(self.h)\n",
    "        self.h = self.h.detach()\n",
    "        return out\n",
    "    \n",
    "    def reset(self):\n",
    "        self.h = 0   "
   ]
  },
  {
   "cell_type": "code",
   "execution_count": 19,
   "id": "35e04d32-45ad-4773-b831-c68e161af57a",
   "metadata": {},
   "outputs": [],
   "source": [
    "def group_chunks(ds, bs):\n",
    "    m = len(ds) // bs\n",
    "    new_ds = list()\n",
    "    for i in range(m):\n",
    "        new_ds += list(ds[i + (m*j)] for j in range(bs))\n",
    "    return new_ds"
   ]
  },
  {
   "cell_type": "code",
   "execution_count": 20,
   "id": "bdfc8b43-d022-4c3e-bbf1-385b01f2c931",
   "metadata": {},
   "outputs": [],
   "source": [
    "bs = 64\n",
    "cut = int(len(seqs) * 0.8)\n",
    "dls = DataLoaders.from_dsets(\n",
    "    group_chunks(seqs[:cut], bs),\n",
    "    group_chunks(seqs[cut:], bs),\n",
    "    bs=bs,\n",
    "    drop_last=True,\n",
    "    shuffle=False)"
   ]
  },
  {
   "cell_type": "code",
   "execution_count": null,
   "id": "e58a8b2d-2675-4263-9b09-20a9e7c729e3",
   "metadata": {},
   "outputs": [
    {
     "data": {
      "text/html": [
       "\n",
       "<style>\n",
       "    /* Turns off some styling */\n",
       "    progress {\n",
       "        /* gets rid of default border in Firefox and Opera. */\n",
       "        border: none;\n",
       "        /* Needs to be in here for Safari polyfill so background images work as expected. */\n",
       "        background-size: auto;\n",
       "    }\n",
       "    progress:not([value]), progress:not([value])::-webkit-progress-bar {\n",
       "        background: repeating-linear-gradient(45deg, #7e7e7e, #7e7e7e 10px, #5c5c5c 10px, #5c5c5c 20px);\n",
       "    }\n",
       "    .progress-bar-interrupted, .progress-bar-interrupted::-webkit-progress-bar {\n",
       "        background: #F44336;\n",
       "    }\n",
       "</style>\n"
      ],
      "text/plain": [
       "<IPython.core.display.HTML object>"
      ]
     },
     "metadata": {},
     "output_type": "display_data"
    },
    {
     "data": {
      "text/html": [
       "\n",
       "    <div>\n",
       "      <progress value='0' class='' max='10' style='width:300px; height:20px; vertical-align: middle;'></progress>\n",
       "      0.00% [0/10 00:00&lt;?]\n",
       "    </div>\n",
       "    \n",
       "<table border=\"1\" class=\"dataframe\">\n",
       "  <thead>\n",
       "    <tr style=\"text-align: left;\">\n",
       "      <th>epoch</th>\n",
       "      <th>train_loss</th>\n",
       "      <th>valid_loss</th>\n",
       "      <th>accuracy</th>\n",
       "      <th>time</th>\n",
       "    </tr>\n",
       "  </thead>\n",
       "  <tbody>\n",
       "  </tbody>\n",
       "</table><p>\n",
       "\n",
       "    <div>\n",
       "      <progress value='0' class='' max='3500' style='width:300px; height:20px; vertical-align: middle;'></progress>\n",
       "      0.00% [0/3500 00:00&lt;?]\n",
       "    </div>\n",
       "    "
      ],
      "text/plain": [
       "<IPython.core.display.HTML object>"
      ]
     },
     "metadata": {},
     "output_type": "display_data"
    }
   ],
   "source": [
    "learn = Learner(dls, LMModel3(len(vocab), bs), loss_func=F.cross_entropy,\n",
    "                metrics=accuracy, cbs=ModelResetter)\n",
    "learn.fit_one_cycle(10, 3e-3)"
   ]
  },
  {
   "cell_type": "code",
   "execution_count": null,
   "id": "2a0e5cd9-e39d-4f3e-871b-f85b9c2ab957",
   "metadata": {},
   "outputs": [],
   "source": []
  }
 ],
 "metadata": {
  "kernelspec": {
   "display_name": "Python 3 (ipykernel)",
   "language": "python",
   "name": "python3"
  },
  "language_info": {
   "codemirror_mode": {
    "name": "ipython",
    "version": 3
   },
   "file_extension": ".py",
   "mimetype": "text/x-python",
   "name": "python",
   "nbconvert_exporter": "python",
   "pygments_lexer": "ipython3",
   "version": "3.12.8"
  }
 },
 "nbformat": 4,
 "nbformat_minor": 5
}

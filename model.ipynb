{
  "cells": [
    {
      "cell_type": "markdown",
      "metadata": {
        "id": "view-in-github",
        "colab_type": "text"
      },
      "source": [
        "<a href=\"https://colab.research.google.com/github/mad0perator/rnn-demo/blob/master/model.ipynb\" target=\"_parent\"><img src=\"https://colab.research.google.com/assets/colab-badge.svg\" alt=\"Open In Colab\"/></a>"
      ]
    },
    {
      "cell_type": "markdown",
      "id": "733a143d-f3bf-4a94-a593-819490b2c6e0",
      "metadata": {
        "id": "733a143d-f3bf-4a94-a593-819490b2c6e0"
      },
      "source": [
        "---\n",
        "title: Torah Recurring Neural Network Demo\n",
        "author: mad0perator\n",
        "date: 2025-02-16\n",
        "---"
      ]
    },
    {
      "cell_type": "code",
      "source": [
        "!pip install fasttext"
      ],
      "metadata": {
        "id": "HulDscqn-Jv7",
        "outputId": "97b2ada5-a0b4-4cef-cbfc-904e5fb68738",
        "colab": {
          "base_uri": "https://localhost:8080/"
        }
      },
      "id": "HulDscqn-Jv7",
      "execution_count": 4,
      "outputs": [
        {
          "output_type": "stream",
          "name": "stdout",
          "text": [
            "Collecting fasttext\n",
            "  Downloading fasttext-0.9.3.tar.gz (73 kB)\n",
            "\u001b[?25l     \u001b[90m━━━━━━━━━━━━━━━━━━━━━━━━━━━━━━━━━━━━━━━━\u001b[0m \u001b[32m0.0/73.4 kB\u001b[0m \u001b[31m?\u001b[0m eta \u001b[36m-:--:--\u001b[0m\r\u001b[2K     \u001b[90m━━━━━━━━━━━━━━━━━━━━━━━━━━━━━━━━━━━━━━━━\u001b[0m \u001b[32m73.4/73.4 kB\u001b[0m \u001b[31m5.8 MB/s\u001b[0m eta \u001b[36m0:00:00\u001b[0m\n",
            "\u001b[?25h  Installing build dependencies ... \u001b[?25l\u001b[?25hdone\n",
            "  Getting requirements to build wheel ... \u001b[?25l\u001b[?25hdone\n",
            "  Preparing metadata (pyproject.toml) ... \u001b[?25l\u001b[?25hdone\n",
            "Collecting pybind11>=2.2 (from fasttext)\n",
            "  Using cached pybind11-2.13.6-py3-none-any.whl.metadata (9.5 kB)\n",
            "Requirement already satisfied: setuptools>=0.7.0 in /usr/local/lib/python3.11/dist-packages (from fasttext) (75.1.0)\n",
            "Requirement already satisfied: numpy in /usr/local/lib/python3.11/dist-packages (from fasttext) (1.26.4)\n",
            "Using cached pybind11-2.13.6-py3-none-any.whl (243 kB)\n",
            "Building wheels for collected packages: fasttext\n",
            "  Building wheel for fasttext (pyproject.toml) ... \u001b[?25l\u001b[?25hdone\n",
            "  Created wheel for fasttext: filename=fasttext-0.9.3-cp311-cp311-linux_x86_64.whl size=4313477 sha256=cddaf323ac53a3b17d40e26893d67fc472ebf4b92af22a6d0a1762c4175c1b5e\n",
            "  Stored in directory: /root/.cache/pip/wheels/65/4f/35/5057db0249224e9ab55a513fa6b79451473ceb7713017823c3\n",
            "Successfully built fasttext\n",
            "Installing collected packages: pybind11, fasttext\n",
            "Successfully installed fasttext-0.9.3 pybind11-2.13.6\n"
          ]
        }
      ]
    },
    {
      "cell_type": "code",
      "source": [
        "!git clone https://github.com/TorahBibleCodes/TorahBibleCodes\n",
        "!wget https://dl.fbaipublicfiles.com/fasttext/vectors-crawl/cc.he.300.bin.gz\n",
        "!wget https://dl.fbaipublicfiles.com/fasttext/vectors-crawl/cc.he.300.vec.gz\n",
        "!gunzip -v cc.he.300.bin.gz\n",
        "!gunzip -v cc.he.300.vec.gz"
      ],
      "metadata": {
        "id": "mr3TV-9F-Xw6",
        "outputId": "799965bc-5805-440e-b56a-cf66d837dfb8",
        "colab": {
          "base_uri": "https://localhost:8080/"
        }
      },
      "id": "mr3TV-9F-Xw6",
      "execution_count": 7,
      "outputs": [
        {
          "output_type": "stream",
          "name": "stdout",
          "text": [
            "fatal: destination path 'TorahBibleCodes' already exists and is not an empty directory.\n",
            "--2025-03-08 12:39:19--  https://dl.fbaipublicfiles.com/fasttext/vectors-crawl/cc.he.300.bin.gz\n",
            "Resolving dl.fbaipublicfiles.com (dl.fbaipublicfiles.com)... 13.226.34.53, 13.226.34.122, 13.226.34.83, ...\n",
            "Connecting to dl.fbaipublicfiles.com (dl.fbaipublicfiles.com)|13.226.34.53|:443... connected.\n",
            "HTTP request sent, awaiting response... 200 OK\n",
            "Length: 4507758837 (4.2G) [application/octet-stream]\n",
            "Saving to: ‘cc.he.300.bin.gz.1’\n",
            "\n",
            "cc.he.300.bin.gz.1  100%[===================>]   4.20G   234MB/s    in 22s     \n",
            "\n",
            "2025-03-08 12:39:41 (195 MB/s) - ‘cc.he.300.bin.gz.1’ saved [4507758837/4507758837]\n",
            "\n",
            "--2025-03-08 12:39:42--  https://dl.fbaipublicfiles.com/fasttext/vectors-crawl/cc.he.300.vec.gz\n",
            "Resolving dl.fbaipublicfiles.com (dl.fbaipublicfiles.com)... 13.226.34.53, 13.226.34.122, 13.226.34.83, ...\n",
            "Connecting to dl.fbaipublicfiles.com (dl.fbaipublicfiles.com)|13.226.34.53|:443... connected.\n",
            "HTTP request sent, awaiting response... 200 OK\n",
            "Length: 1228982843 (1.1G) [binary/octet-stream]\n",
            "Saving to: ‘cc.he.300.vec.gz.1’\n",
            "\n",
            "cc.he.300.vec.gz.1  100%[===================>]   1.14G  95.1MB/s    in 9.4s    \n",
            "\n",
            "2025-03-08 12:39:51 (124 MB/s) - ‘cc.he.300.vec.gz.1’ saved [1228982843/1228982843]\n",
            "\n",
            "cc.he.300.bin.gz:\t 37.8% -- replaced with cc.he.300.bin\n",
            "cc.he.300.vec.gz:\t 72.9% -- replaced with cc.he.300.vec\n"
          ]
        }
      ]
    },
    {
      "cell_type": "code",
      "source": [
        "import json\n",
        "import fasttext as ft"
      ],
      "metadata": {
        "id": "fdGhPqvj-1BB"
      },
      "id": "fdGhPqvj-1BB",
      "execution_count": 54,
      "outputs": []
    },
    {
      "cell_type": "code",
      "source": [
        "def route(name: str) -> str:\n",
        "  srcdir = \"TorahBibleCodes/texts\"\n",
        "  prefix = \"text_leningrad\"\n",
        "  ext = \"json\"\n",
        "  return f\"{srcdir}/{prefix}_{name}.{ext}\""
      ],
      "metadata": {
        "id": "apTXSfB6_A2R"
      },
      "id": "apTXSfB6_A2R",
      "execution_count": 3,
      "outputs": []
    },
    {
      "cell_type": "code",
      "source": [
        "def compile_doc(path: str) -> str:\n",
        "  with open(path, \"r\") as file:\n",
        "    book = json.load(file)\n",
        "  verses = [verse for chapter in book.get(\"text\") for verse in chapter]\n",
        "  return \"\\n\".join(verses)"
      ],
      "metadata": {
        "id": "na1gFc8vgl2T"
      },
      "id": "na1gFc8vgl2T",
      "execution_count": 1,
      "outputs": []
    },
    {
      "cell_type": "code",
      "source": [
        "def write_doc(doc: str, path: str) -> None:\n",
        "  with open(path, \"w\") as file:\n",
        "    file.write(doc)"
      ],
      "metadata": {
        "id": "Z2m2N3VYttQL"
      },
      "id": "Z2m2N3VYttQL",
      "execution_count": 2,
      "outputs": []
    },
    {
      "cell_type": "code",
      "source": [
        "corpus = \"\"\n",
        "for title in \"1genesis 2exodus 3leviticus 4numbers 5deuteronomy\".split():\n",
        "  path = route(title)\n",
        "  doc = compile_doc(path)\n",
        "  corpus = \"\\n\\n\".join([corpus, doc])\n",
        "  write_doc(doc, f\"{title}.txt\")\n",
        "write_doc(corpus, \"corpus.txt\")"
      ],
      "metadata": {
        "id": "8je_G8mMuzra"
      },
      "id": "8je_G8mMuzra",
      "execution_count": null,
      "outputs": []
    },
    {
      "cell_type": "code",
      "source": [
        "model = ft.train_unsupervised(\"torah_verses.txt\", model=\"skipgram\")"
      ],
      "metadata": {
        "id": "wlq-evBfiiMt"
      },
      "id": "wlq-evBfiiMt",
      "execution_count": 66,
      "outputs": []
    },
    {
      "cell_type": "code",
      "source": [
        "\n",
        "model.save_model(\"model_torah.bin\")"
      ],
      "metadata": {
        "id": "NmN8Sj8IjsUL"
      },
      "id": "NmN8Sj8IjsUL",
      "execution_count": 67,
      "outputs": []
    },
    {
      "cell_type": "code",
      "source": [
        "from collections import"
      ],
      "metadata": {
        "id": "min1DIfDj3Hv",
        "outputId": "8cbb48fc-8a4a-47b8-89f3-a8851812f620",
        "colab": {
          "base_uri": "https://localhost:8080/",
          "height": 166
        }
      },
      "id": "min1DIfDj3Hv",
      "execution_count": 68,
      "outputs": [
        {
          "output_type": "error",
          "ename": "TypeError",
          "evalue": "_FastText.get_analogies() missing 3 required positional arguments: 'wordA', 'wordB', and 'wordC'",
          "traceback": [
            "\u001b[0;31m---------------------------------------------------------------------------\u001b[0m",
            "\u001b[0;31mTypeError\u001b[0m                                 Traceback (most recent call last)",
            "\u001b[0;32m<ipython-input-68-eac749a544f7>\u001b[0m in \u001b[0;36m<cell line: 0>\u001b[0;34m()\u001b[0m\n\u001b[0;32m----> 1\u001b[0;31m \u001b[0mmodel\u001b[0m\u001b[0;34m.\u001b[0m\u001b[0mget_analogies\u001b[0m\u001b[0;34m(\u001b[0m\u001b[0;34m)\u001b[0m\u001b[0;34m\u001b[0m\u001b[0;34m\u001b[0m\u001b[0m\n\u001b[0m",
            "\u001b[0;31mTypeError\u001b[0m: _FastText.get_analogies() missing 3 required positional arguments: 'wordA', 'wordB', and 'wordC'"
          ]
        }
      ]
    },
    {
      "cell_type": "code",
      "source": [
        "text = bookdata[\"text\"]\n",
        "verses = \"\\n\".join(verse for chapter in text for verse in chapter).splitlines()"
      ],
      "metadata": {
        "id": "L0KpuTwhMHxH"
      },
      "id": "L0KpuTwhMHxH",
      "execution_count": 44,
      "outputs": []
    },
    {
      "cell_type": "code",
      "source": [
        "doc = \"\\n\".join(verses)\n",
        "with open(\"gen.txt\", \"w\") as file:\n",
        "    file.write(doc)"
      ],
      "metadata": {
        "id": "0MLNY-oTMZLB"
      },
      "id": "0MLNY-oTMZLB",
      "execution_count": 46,
      "outputs": []
    },
    {
      "cell_type": "code",
      "source": [
        "model = ft.train_unsupervised(\"gen.txt\", model=\"skipgram\")"
      ],
      "metadata": {
        "id": "MpP4CqZoMqwo"
      },
      "id": "MpP4CqZoMqwo",
      "execution_count": 50,
      "outputs": []
    },
    {
      "cell_type": "code",
      "source": [
        "\n",
        "print(model[word])"
      ],
      "metadata": {
        "id": "UF_nmPFfNahT",
        "outputId": "d43faaa8-b707-47f0-a0b1-dd3a319cbb3a",
        "colab": {
          "base_uri": "https://localhost:8080/"
        }
      },
      "id": "UF_nmPFfNahT",
      "execution_count": 52,
      "outputs": [
        {
          "output_type": "stream",
          "name": "stdout",
          "text": [
            "[ 0.00912343  0.01389562 -0.03162206  0.01261535  0.0593272   0.00746225\n",
            " -0.00397995  0.07560085  0.05421473  0.009624   -0.06098239  0.00429937\n",
            "  0.00490476  0.03487884 -0.05107715  0.04005896  0.02760619  0.09216634\n",
            " -0.00822202 -0.05297005 -0.00338791  0.04756958  0.0258717  -0.09210825\n",
            "  0.05278116 -0.01895878 -0.00710756 -0.03095214 -0.02564527  0.17260666\n",
            " -0.01458679 -0.03882715 -0.03726182 -0.05491664 -0.01760685 -0.08772722\n",
            "  0.02659837 -0.09411746 -0.04627465 -0.0266154   0.05163683  0.07138863\n",
            "  0.02300885  0.01241913  0.01941179 -0.02290344 -0.01698598 -0.01454632\n",
            " -0.05678752 -0.01975282 -0.07409719  0.06063832 -0.11519722  0.04935955\n",
            " -0.08177911 -0.03185846  0.0465799   0.06391346 -0.02759725  0.07624723\n",
            "  0.05075644 -0.01297851  0.08175895  0.01708847 -0.04495674  0.0320318\n",
            " -0.03103453  0.06011389  0.01584668  0.02397699 -0.0589461  -0.05145267\n",
            " -0.04742106  0.03112668 -0.01773922 -0.03893522  0.12141626  0.02949687\n",
            " -0.0108653   0.03446706 -0.03639562 -0.01240033  0.05026515 -0.04874728\n",
            "  0.02983748 -0.04458898 -0.04413817  0.08075874 -0.06572822 -0.02773305\n",
            "  0.08145152  0.03166749  0.10892218 -0.14615434 -0.08813614 -0.07957872\n",
            "  0.01218556  0.04856207 -0.06181216  0.02680286]\n"
          ]
        }
      ]
    },
    {
      "cell_type": "code",
      "source": [
        "model = ft.load_model(\"cc.he.300.bin\")"
      ],
      "metadata": {
        "id": "0p1FFvl9_o0D"
      },
      "id": "0p1FFvl9_o0D",
      "execution_count": 11,
      "outputs": []
    },
    {
      "cell_type": "code",
      "source": [
        "model.save_model(\"model\")"
      ],
      "metadata": {
        "id": "NLVsBSedNxiI"
      },
      "id": "NLVsBSedNxiI",
      "execution_count": null,
      "outputs": []
    },
    {
      "cell_type": "code",
      "source": [
        "!./fastext skipgram -input"
      ],
      "metadata": {
        "id": "HX4vK_xCIa-Y"
      },
      "id": "HX4vK_xCIa-Y",
      "execution_count": null,
      "outputs": []
    },
    {
      "cell_type": "code",
      "source": [
        "from pathlib import Path\n",
        "\n",
        "\n",
        "dir(ft)"
      ],
      "metadata": {
        "id": "H0dDBHvUIztD",
        "outputId": "201e06cd-6d42-4ad7-fb0b-ae08425a6122",
        "colab": {
          "base_uri": "https://localhost:8080/"
        }
      },
      "id": "H0dDBHvUIztD",
      "execution_count": 31,
      "outputs": [
        {
          "output_type": "execute_result",
          "data": {
            "text/plain": [
              "['BOW',\n",
              " 'EOS',\n",
              " 'EOW',\n",
              " 'FastText',\n",
              " '__annotations__',\n",
              " '__builtins__',\n",
              " '__cached__',\n",
              " '__doc__',\n",
              " '__file__',\n",
              " '__loader__',\n",
              " '__name__',\n",
              " '__package__',\n",
              " '__path__',\n",
              " '__spec__',\n",
              " 'absolute_import',\n",
              " 'cbow',\n",
              " 'division',\n",
              " 'load_model',\n",
              " 'print_function',\n",
              " 'skipgram',\n",
              " 'supervised',\n",
              " 'tokenize',\n",
              " 'train_supervised',\n",
              " 'train_unsupervised',\n",
              " 'unicode_literals']"
            ]
          },
          "metadata": {},
          "execution_count": 31
        }
      ]
    },
    {
      "cell_type": "code",
      "source": [
        "ft.absolute_import"
      ],
      "metadata": {
        "id": "qOY6r8X_JntK",
        "outputId": "77ea0a58-806f-4548-aae0-15ad3866d282",
        "colab": {
          "base_uri": "https://localhost:8080/"
        }
      },
      "id": "qOY6r8X_JntK",
      "execution_count": 33,
      "outputs": [
        {
          "output_type": "execute_result",
          "data": {
            "text/plain": [
              "_Feature((2, 5, 0, 'alpha', 1), (3, 0, 0, 'alpha', 0), 262144)"
            ]
          },
          "metadata": {},
          "execution_count": 33
        }
      ]
    },
    {
      "cell_type": "code",
      "source": [
        "path = path / \"util\"\n",
        "sorted(path.iterdir())"
      ],
      "metadata": {
        "id": "uywrPjQXJJcN",
        "outputId": "0517ef16-d153-47eb-805a-039726c83bba",
        "colab": {
          "base_uri": "https://localhost:8080/",
          "height": 312
        }
      },
      "id": "uywrPjQXJJcN",
      "execution_count": 28,
      "outputs": [
        {
          "output_type": "error",
          "ename": "FileNotFoundError",
          "evalue": "[Errno 2] No such file or directory: '/usr/local/lib/python3.11/dist-packages/fasttext/tests/util'",
          "traceback": [
            "\u001b[0;31m---------------------------------------------------------------------------\u001b[0m",
            "\u001b[0;31mFileNotFoundError\u001b[0m                         Traceback (most recent call last)",
            "\u001b[0;32m<ipython-input-28-d943fa9222ac>\u001b[0m in \u001b[0;36m<cell line: 0>\u001b[0;34m()\u001b[0m\n\u001b[1;32m      1\u001b[0m \u001b[0mpath\u001b[0m \u001b[0;34m=\u001b[0m \u001b[0mpath\u001b[0m \u001b[0;34m/\u001b[0m \u001b[0;34m\"util\"\u001b[0m\u001b[0;34m\u001b[0m\u001b[0;34m\u001b[0m\u001b[0m\n\u001b[0;32m----> 2\u001b[0;31m \u001b[0msorted\u001b[0m\u001b[0;34m(\u001b[0m\u001b[0mpath\u001b[0m\u001b[0;34m.\u001b[0m\u001b[0miterdir\u001b[0m\u001b[0;34m(\u001b[0m\u001b[0;34m)\u001b[0m\u001b[0;34m)\u001b[0m\u001b[0;34m\u001b[0m\u001b[0;34m\u001b[0m\u001b[0m\n\u001b[0m",
            "\u001b[0;32m/usr/lib/python3.11/pathlib.py\u001b[0m in \u001b[0;36miterdir\u001b[0;34m(self)\u001b[0m\n\u001b[1;32m    929\u001b[0m         \u001b[0mresult\u001b[0m \u001b[0;32mfor\u001b[0m \u001b[0mthe\u001b[0m \u001b[0mspecial\u001b[0m \u001b[0mpaths\u001b[0m \u001b[0;34m'.'\u001b[0m \u001b[0;32mand\u001b[0m \u001b[0;34m'..'\u001b[0m\u001b[0;34m.\u001b[0m\u001b[0;34m\u001b[0m\u001b[0;34m\u001b[0m\u001b[0m\n\u001b[1;32m    930\u001b[0m         \"\"\"\n\u001b[0;32m--> 931\u001b[0;31m         \u001b[0;32mfor\u001b[0m \u001b[0mname\u001b[0m \u001b[0;32min\u001b[0m \u001b[0mos\u001b[0m\u001b[0;34m.\u001b[0m\u001b[0mlistdir\u001b[0m\u001b[0;34m(\u001b[0m\u001b[0mself\u001b[0m\u001b[0;34m)\u001b[0m\u001b[0;34m:\u001b[0m\u001b[0;34m\u001b[0m\u001b[0;34m\u001b[0m\u001b[0m\n\u001b[0m\u001b[1;32m    932\u001b[0m             \u001b[0;32myield\u001b[0m \u001b[0mself\u001b[0m\u001b[0;34m.\u001b[0m\u001b[0m_make_child_relpath\u001b[0m\u001b[0;34m(\u001b[0m\u001b[0mname\u001b[0m\u001b[0;34m)\u001b[0m\u001b[0;34m\u001b[0m\u001b[0;34m\u001b[0m\u001b[0m\n\u001b[1;32m    933\u001b[0m \u001b[0;34m\u001b[0m\u001b[0m\n",
            "\u001b[0;31mFileNotFoundError\u001b[0m: [Errno 2] No such file or directory: '/usr/local/lib/python3.11/dist-packages/fasttext/tests/util'"
          ]
        }
      ]
    },
    {
      "cell_type": "code",
      "source": [
        "sent = \"בראשית ברא אלהים את השמים ואת הארץ\""
      ],
      "metadata": {
        "id": "qTJNE7SoCP2_"
      },
      "id": "qTJNE7SoCP2_",
      "execution_count": 17,
      "outputs": []
    },
    {
      "cell_type": "code",
      "source": [
        "ft.tokenize(sent)"
      ],
      "metadata": {
        "id": "ULNgl_6xCTli",
        "outputId": "26ebe802-bfaf-4115-cc65-f77916318621",
        "colab": {
          "base_uri": "https://localhost:8080/"
        }
      },
      "id": "ULNgl_6xCTli",
      "execution_count": 20,
      "outputs": [
        {
          "output_type": "execute_result",
          "data": {
            "text/plain": [
              "['בראשית', 'ברא', 'אלהים', 'את', 'השמים', 'ואת', 'הארץ']"
            ]
          },
          "metadata": {},
          "execution_count": 20
        }
      ]
    },
    {
      "cell_type": "code",
      "source": [
        "ft."
      ],
      "metadata": {
        "id": "BbBaqIEoDfOq"
      },
      "id": "BbBaqIEoDfOq",
      "execution_count": null,
      "outputs": []
    },
    {
      "cell_type": "code",
      "source": [
        "model.get_nearest_neighbors(sent.split()[4])"
      ],
      "metadata": {
        "id": "Hccrf0jEC1JV",
        "outputId": "20514fd4-fb95-4c47-9539-6450c86648bd",
        "colab": {
          "base_uri": "https://localhost:8080/"
        }
      },
      "id": "Hccrf0jEC1JV",
      "execution_count": 23,
      "outputs": [
        {
          "output_type": "execute_result",
          "data": {
            "text/plain": [
              "[(0.8300032615661621, 'השמיים'),\n",
              " (0.7327893972396851, 'והשמים'),\n",
              " (0.717716634273529, 'שהשמים'),\n",
              " (0.7117455005645752, 'שמהשמים'),\n",
              " (0.6991690397262573, 'את-השמים'),\n",
              " (0.6927628517150879, 'ושהשמים'),\n",
              " (0.680324375629425, 'מן-השמים'),\n",
              " (0.6584923267364502, 'כשהשמים'),\n",
              " (0.658272922039032, 'והשמיים'),\n",
              " (0.6548682451248169, 'השמים-')]"
            ]
          },
          "metadata": {},
          "execution_count": 23
        }
      ]
    },
    {
      "cell_type": "code",
      "source": [
        "samodel.get_word_vector(word)"
      ],
      "metadata": {
        "id": "9o3FMAgEBGNm",
        "outputId": "e2e2a2ec-b90c-40d8-c3a6-2499fdaa5c12",
        "colab": {
          "base_uri": "https://localhost:8080/"
        }
      },
      "id": "9o3FMAgEBGNm",
      "execution_count": 16,
      "outputs": [
        {
          "output_type": "execute_result",
          "data": {
            "text/plain": [
              "array([-0.00471033, -0.03604224,  0.00633192,  0.03173974,  0.01284669,\n",
              "       -0.00110892,  0.06325021,  0.04866415, -0.10746378,  0.00863841,\n",
              "        0.022379  ,  0.04945849,  0.01838105, -0.03978967,  0.05254294,\n",
              "        0.02895112, -0.01281437,  0.02564861, -0.02407202, -0.03210249,\n",
              "       -0.01430248, -0.04492976, -0.01393268,  0.01262189,  0.04302173,\n",
              "       -0.0058337 , -0.02327216,  0.03035818,  0.02436994, -0.08191963,\n",
              "       -0.00985359, -0.02859392, -0.02819934,  0.03538765, -0.0347168 ,\n",
              "        0.01891176,  0.0284749 ,  0.00984698, -0.00778957, -0.03260988,\n",
              "        0.01323399, -0.0634978 , -0.01097935,  0.03919963, -0.02040931,\n",
              "        0.01431944, -0.00352276,  0.0337855 , -0.03141041, -0.0796059 ,\n",
              "        0.00640359,  0.004292  ,  0.03706923, -0.01045393, -0.0192554 ,\n",
              "        0.0066459 , -0.01854091, -0.07003725,  0.013381  ,  0.03892563,\n",
              "        0.00776592,  0.00789075,  0.00459953, -0.02237867, -0.00411684,\n",
              "       -0.06407056, -0.02513629, -0.03977833,  0.0384371 ,  0.0688583 ,\n",
              "       -0.00687211, -0.01738063,  0.00446496,  0.0229087 ,  0.02018986,\n",
              "       -0.0878076 , -0.04113714,  0.04321417, -0.01023359, -0.04238027,\n",
              "        0.01094836, -0.0440927 ,  0.00418796, -0.03185666,  0.00335913,\n",
              "        0.04545021,  0.0499047 ,  0.00750081, -0.07985427,  0.11524534,\n",
              "        0.02822837,  0.04287475, -0.12866834,  0.05528691,  0.02868984,\n",
              "        0.04654553, -0.0012589 , -0.08414672,  0.00196019, -0.04540089,\n",
              "        0.00962358, -0.00777637,  0.01110712, -0.00506869,  0.04634899,\n",
              "       -0.01848598,  0.07412364,  0.01326814, -0.03373847, -0.06512567,\n",
              "        0.01488405, -0.03230026,  0.0313836 ,  0.05538376,  0.01137714,\n",
              "       -0.00948342,  0.0152762 , -0.02295334,  0.01803437,  0.01777993,\n",
              "        0.00949538, -0.02233226, -0.04871754, -0.01714144, -0.01222767,\n",
              "        0.00687229,  0.03115151,  0.03388109,  0.04209057, -0.04771078,\n",
              "       -0.03817573,  0.01682054,  0.02168174,  0.03485726, -0.02186528,\n",
              "       -0.02185057,  0.04077349, -0.00140014,  0.04281312, -0.00233656,\n",
              "        0.01843081, -0.01397348,  0.11506424, -0.07261427, -0.03677307,\n",
              "       -0.01696708, -0.04657267,  0.01156036,  0.01992761, -0.03283218,\n",
              "        0.05751296,  0.07139102,  0.00705772,  0.0083571 , -0.00621919,\n",
              "       -0.02285229, -0.03541053, -0.0898691 , -0.02914296, -0.01341272,\n",
              "       -0.03514591, -0.05143106, -0.07259957, -0.03204133,  0.00229668,\n",
              "        0.00380754, -0.0192802 ,  0.00510044,  0.05843261, -0.02962572,\n",
              "       -0.0494972 ,  0.01285082, -0.06022998,  0.00505272,  0.00606965,\n",
              "       -0.03756592, -0.04346118, -0.00338281, -0.01496912,  0.01812555,\n",
              "        0.04084388,  0.00399337, -0.02189495, -0.02935399, -0.05708326,\n",
              "       -0.00267046,  0.00683214,  0.04234166,  0.01410333, -0.02820792,\n",
              "        0.04391256, -0.00479335, -0.03787149,  0.01516452, -0.01713746,\n",
              "       -0.02000813,  0.00019198,  0.00820834,  0.01586591,  0.11639424,\n",
              "        0.02623688,  0.03579261,  0.00822466,  0.00491427,  0.02748342,\n",
              "        0.06850578, -0.0055526 , -0.00927415,  0.0181195 , -0.0200834 ,\n",
              "       -0.01178534, -0.0018711 ,  0.0460415 , -0.05757276, -0.03324331,\n",
              "        0.00457121, -0.00762672, -0.0096314 ,  0.01505245,  0.0164658 ,\n",
              "        0.01612178,  0.02642854,  0.00314089, -0.01559181, -0.0430122 ,\n",
              "       -0.00441726, -0.12350576,  0.03803407, -0.02959118, -0.02247239,\n",
              "        0.03092641, -0.02759144,  0.00393587, -0.01789885,  0.02603731,\n",
              "        0.03600116, -0.04939295, -0.00594763,  0.00149788,  0.02488388,\n",
              "        0.02223066, -0.05505958,  0.00352956, -0.03990954, -0.00369264,\n",
              "        0.03029964,  0.0123693 ,  0.0305473 ,  0.03613991,  0.00737724,\n",
              "       -0.00589124,  0.00862682,  0.01636994, -0.03073321, -0.00548694,\n",
              "       -0.00322783,  0.01413969,  0.01327315,  0.0181577 , -0.02413388,\n",
              "       -0.02588757, -0.01368029, -0.02865015, -0.01672199, -0.04371315,\n",
              "       -0.03549717,  0.0058546 , -0.06639683, -0.01388507,  0.04530029,\n",
              "       -0.03569563, -0.00573334,  0.00771783, -0.0333881 , -0.03841147,\n",
              "       -0.0185504 , -0.01705603,  0.01260908, -0.04702576,  0.02888022,\n",
              "        0.0336547 , -0.05999895, -0.00039858,  0.02133096, -0.04292009,\n",
              "        0.0092327 ,  0.02945126,  0.01626088,  0.02554756, -0.01265913,\n",
              "       -0.02078255,  0.00744663,  0.00590851, -0.06073106,  0.037607  ,\n",
              "       -0.01429502,  0.01427489, -0.0648566 , -0.02840612, -0.04300508],\n",
              "      dtype=float32)"
            ]
          },
          "metadata": {},
          "execution_count": 16
        }
      ]
    },
    {
      "cell_type": "code",
      "source": [
        "def tokenize(text: str):\n",
        "    return \" \".join(model.get_word_vector(word)[0] for word in text.split())"
      ],
      "metadata": {
        "id": "YxQe1HAU_orm"
      },
      "id": "YxQe1HAU_orm",
      "execution_count": 12,
      "outputs": []
    },
    {
      "cell_type": "code",
      "source": [
        "word = \"בראשית ברא אלהים את השמים ואת הארץ\".split()[0]"
      ],
      "metadata": {
        "id": "Tug6LIZDBpmN"
      },
      "id": "Tug6LIZDBpmN",
      "execution_count": 14,
      "outputs": []
    },
    {
      "cell_type": "code",
      "source": [
        "\n",
        "word"
      ],
      "metadata": {
        "id": "6UZvvEPZBvgY",
        "outputId": "dd2f9f57-6779-420c-ac34-7d693948539f",
        "colab": {
          "base_uri": "https://localhost:8080/",
          "height": 35
        }
      },
      "id": "6UZvvEPZBvgY",
      "execution_count": 15,
      "outputs": [
        {
          "output_type": "execute_result",
          "data": {
            "text/plain": [
              "'בראשית'"
            ],
            "application/vnd.google.colaboratory.intrinsic+json": {
              "type": "string"
            }
          },
          "metadata": {},
          "execution_count": 15
        }
      ]
    },
    {
      "cell_type": "code",
      "source": [
        "tokens = tokenize(\"בראשית ברא אלהים את השמים ואת הארץ\")"
      ],
      "metadata": {
        "id": "gAppN2FAASaG",
        "outputId": "c6aad84b-5bf6-4623-b47c-a9990c44d294",
        "colab": {
          "base_uri": "https://localhost:8080/",
          "height": 221
        }
      },
      "id": "gAppN2FAASaG",
      "execution_count": 13,
      "outputs": [
        {
          "output_type": "error",
          "ename": "TypeError",
          "evalue": "sequence item 0: expected str instance, numpy.float32 found",
          "traceback": [
            "\u001b[0;31m---------------------------------------------------------------------------\u001b[0m",
            "\u001b[0;31mTypeError\u001b[0m                                 Traceback (most recent call last)",
            "\u001b[0;32m<ipython-input-13-fa0d377cea70>\u001b[0m in \u001b[0;36m<cell line: 0>\u001b[0;34m()\u001b[0m\n\u001b[0;32m----> 1\u001b[0;31m \u001b[0mtokens\u001b[0m \u001b[0;34m=\u001b[0m \u001b[0mtokenize\u001b[0m\u001b[0;34m(\u001b[0m\u001b[0;34m\"בראשית ברא אלהים את השמים ואת הארץ\"\u001b[0m\u001b[0;34m)\u001b[0m\u001b[0;34m\u001b[0m\u001b[0;34m\u001b[0m\u001b[0m\n\u001b[0m",
            "\u001b[0;32m<ipython-input-12-530ed2febab9>\u001b[0m in \u001b[0;36mtokenize\u001b[0;34m(text)\u001b[0m\n\u001b[1;32m      1\u001b[0m \u001b[0;32mdef\u001b[0m \u001b[0mtokenize\u001b[0m\u001b[0;34m(\u001b[0m\u001b[0mtext\u001b[0m\u001b[0;34m:\u001b[0m \u001b[0mstr\u001b[0m\u001b[0;34m)\u001b[0m\u001b[0;34m:\u001b[0m\u001b[0;34m\u001b[0m\u001b[0;34m\u001b[0m\u001b[0m\n\u001b[0;32m----> 2\u001b[0;31m     \u001b[0;32mreturn\u001b[0m \u001b[0;34m\" \"\u001b[0m\u001b[0;34m.\u001b[0m\u001b[0mjoin\u001b[0m\u001b[0;34m(\u001b[0m\u001b[0mmodel\u001b[0m\u001b[0;34m.\u001b[0m\u001b[0mget_word_vector\u001b[0m\u001b[0;34m(\u001b[0m\u001b[0mword\u001b[0m\u001b[0;34m)\u001b[0m\u001b[0;34m[\u001b[0m\u001b[0;36m0\u001b[0m\u001b[0;34m]\u001b[0m \u001b[0;32mfor\u001b[0m \u001b[0mword\u001b[0m \u001b[0;32min\u001b[0m \u001b[0mtext\u001b[0m\u001b[0;34m.\u001b[0m\u001b[0msplit\u001b[0m\u001b[0;34m(\u001b[0m\u001b[0;34m)\u001b[0m\u001b[0;34m)\u001b[0m\u001b[0;34m\u001b[0m\u001b[0;34m\u001b[0m\u001b[0m\n\u001b[0m",
            "\u001b[0;31mTypeError\u001b[0m: sequence item 0: expected str instance, numpy.float32 found"
          ]
        }
      ]
    },
    {
      "cell_type": "code",
      "source": [],
      "metadata": {
        "id": "fhRvTxGHA_bs"
      },
      "id": "fhRvTxGHA_bs",
      "execution_count": null,
      "outputs": []
    },
    {
      "cell_type": "code",
      "execution_count": null,
      "id": "cafe3032-18ca-472c-a7ad-908daf710db7",
      "metadata": {
        "id": "cafe3032-18ca-472c-a7ad-908daf710db7"
      },
      "outputs": [],
      "source": [
        "a\n",
        "import numpy as np\n",
        "import pandas as pd\n",
        "import unicodedata2 as ucd\n",
        "from fastai.text.all import *"
      ]
    },
    {
      "cell_type": "code",
      "execution_count": null,
      "id": "0a6ea4a3-d642-4acb-8e26-0d9e3f70d488",
      "metadata": {
        "id": "0a6ea4a3-d642-4acb-8e26-0d9e3f70d488"
      },
      "outputs": [],
      "source": [
        "HOST = \"https://github.com\"\n",
        "ORG = \"ETCBC\"\n",
        "REPO = \"bhsa\"\n",
        "APP = \"tf\"\n",
        "VERSION = \"2021\"\n",
        "FEATURE = \"g_cons_utf8\""
      ]
    },
    {
      "cell_type": "code",
      "execution_count": null,
      "id": "9c8008e7-d57b-4a10-8b10-f0db5f39622c",
      "metadata": {
        "id": "9c8008e7-d57b-4a10-8b10-f0db5f39622c"
      },
      "outputs": [],
      "source": [
        "url = \"/\".join([HOST, ORG, REPO])"
      ]
    },
    {
      "cell_type": "code",
      "execution_count": null,
      "id": "8645a6b1-f57a-4013-8c78-74a32d04b3a5",
      "metadata": {
        "id": "8645a6b1-f57a-4013-8c78-74a32d04b3a5"
      },
      "outputs": [],
      "source": [
        "!git clone {url}"
      ]
    },
    {
      "cell_type": "code",
      "execution_count": null,
      "id": "eee01d34-b4dc-42f7-a694-ec84fa244c05",
      "metadata": {
        "id": "eee01d34-b4dc-42f7-a694-ec84fa244c05"
      },
      "outputs": [],
      "source": [
        "prefix = \"/\".join([REPO, APP, VERSION, FEATURE])\n",
        "ext = APP\n",
        "path = \".\".join([prefix, ext])"
      ]
    },
    {
      "cell_type": "code",
      "execution_count": null,
      "id": "2fdfbd52-c8c4-4bab-ae6e-cd1f21527eac",
      "metadata": {
        "id": "2fdfbd52-c8c4-4bab-ae6e-cd1f21527eac"
      },
      "outputs": [],
      "source": [
        "with open(path, \"r\") as file:\n",
        "    doc = file.read()"
      ]
    },
    {
      "cell_type": "code",
      "execution_count": null,
      "id": "2651d853-11e3-452a-b814-249b2ac4b2f1",
      "metadata": {
        "id": "2651d853-11e3-452a-b814-249b2ac4b2f1"
      },
      "outputs": [],
      "source": [
        "lines = doc.splitlines()\n",
        "header = lines.pop(0)\n",
        "assert header == \"@node\""
      ]
    },
    {
      "cell_type": "code",
      "execution_count": null,
      "id": "3ce06d2e-f2a8-454a-a7bc-bb6e2143d93b",
      "metadata": {
        "id": "3ce06d2e-f2a8-454a-a7bc-bb6e2143d93b"
      },
      "outputs": [],
      "source": [
        "tokens = []\n",
        "for line in lines:\n",
        "    if not line.startswith(\"@\") and len(line) > 0:\n",
        "        tokens.append(line)\n",
        "s = pd.Series(tokens, name=\"token\", dtype=\"string\")"
      ]
    },
    {
      "cell_type": "code",
      "execution_count": null,
      "id": "02f7181f-acf9-4403-8b57-d9fae347e319",
      "metadata": {
        "id": "02f7181f-acf9-4403-8b57-d9fae347e319"
      },
      "outputs": [],
      "source": [
        "def remove_punct(token: str) -> str:\n",
        "    return \"\".join([c for c in token if ucd.category(c).startswith(\"L\")])"
      ]
    },
    {
      "cell_type": "code",
      "execution_count": null,
      "id": "4065d2ab-4f55-488b-b033-e372bdcea2d9",
      "metadata": {
        "id": "4065d2ab-4f55-488b-b033-e372bdcea2d9"
      },
      "outputs": [],
      "source": [
        "def tfm_no_punct(s: pd.Series) -> pd.Series:\n",
        "    return s.apply(remove_punct)"
      ]
    },
    {
      "cell_type": "code",
      "execution_count": null,
      "id": "1b06df43-b883-4d97-8f0a-0e96a278f648",
      "metadata": {
        "id": "1b06df43-b883-4d97-8f0a-0e96a278f648"
      },
      "outputs": [],
      "source": [
        "s = s.pipe(tfm_no_punct)"
      ]
    },
    {
      "cell_type": "code",
      "execution_count": null,
      "id": "3d774864-8ff3-4473-9f0c-5d760e16ccb7",
      "metadata": {
        "id": "3d774864-8ff3-4473-9f0c-5d760e16ccb7"
      },
      "outputs": [],
      "source": [
        "doc = \" . \".join(s)"
      ]
    },
    {
      "cell_type": "code",
      "execution_count": null,
      "id": "2785cbae-1bd8-4e23-aa2b-3d33fa1c16ce",
      "metadata": {
        "id": "2785cbae-1bd8-4e23-aa2b-3d33fa1c16ce"
      },
      "outputs": [],
      "source": [
        "tokenss = pd.Series(doc.split(\" \"))"
      ]
    },
    {
      "cell_type": "code",
      "execution_count": null,
      "id": "5c7aad17-afeb-45f6-b8c1-077eccf36324",
      "metadata": {
        "id": "5c7aad17-afeb-45f6-b8c1-077eccf36324"
      },
      "outputs": [],
      "source": [
        "vocab = {w: i for i, w in enumerate(tokenss.unique())}\n",
        "idx = tuple(tokenss.apply(vocab.get))"
      ]
    },
    {
      "cell_type": "code",
      "execution_count": null,
      "id": "12d7af2e-f7b5-4dc9-b2b5-c085d26ea750",
      "metadata": {
        "id": "12d7af2e-f7b5-4dc9-b2b5-c085d26ea750"
      },
      "outputs": [],
      "source": [
        "seqs = list((tensor(idx[i:i+3]), idx[i+3]) for i in range(0, len(idx)-4, 3))"
      ]
    },
    {
      "cell_type": "code",
      "execution_count": null,
      "id": "e2a1ce35-7853-4ceb-879b-950d59a36fa6",
      "metadata": {
        "id": "e2a1ce35-7853-4ceb-879b-950d59a36fa6"
      },
      "outputs": [],
      "source": [
        "class LMModel3(Module):\n",
        "    def __init__(self, vocab_sz, n_hidden):\n",
        "        self.i_h = nn.Embedding(vocab_sz, n_hidden)\n",
        "        self.h_h = nn.Linear(n_hidden, n_hidden)\n",
        "        self.h_o = nn.Linear(n_hidden, vocab_sz)\n",
        "        self.h = 0\n",
        "\n",
        "    def forward(self, x):\n",
        "        for i in range(3):\n",
        "            self.h = self.h + self.i_h(x[:, i])\n",
        "            self.h = F.relu(self.h_h(self.h))\n",
        "        out = self.h_o(self.h)\n",
        "        self.h = self.h.detach()\n",
        "        return out\n",
        "\n",
        "    def reset(self):\n",
        "        self.h = 0"
      ]
    },
    {
      "cell_type": "code",
      "execution_count": null,
      "id": "35e04d32-45ad-4773-b831-c68e161af57a",
      "metadata": {
        "id": "35e04d32-45ad-4773-b831-c68e161af57a"
      },
      "outputs": [],
      "source": [
        "def group_chunks(ds, bs):\n",
        "    m = len(ds) // bs\n",
        "    new_ds = list()\n",
        "    for i in range(m):\n",
        "        new_ds += list(ds[i + (m*j)] for j in range(bs))\n",
        "    return new_ds"
      ]
    },
    {
      "cell_type": "code",
      "execution_count": null,
      "id": "bdfc8b43-d022-4c3e-bbf1-385b01f2c931",
      "metadata": {
        "id": "bdfc8b43-d022-4c3e-bbf1-385b01f2c931"
      },
      "outputs": [],
      "source": [
        "bs = 64\n",
        "cut = int(len(seqs) * 0.8)\n",
        "dls = DataLoaders.from_dsets(\n",
        "    group_chunks(seqs[:cut], bs),\n",
        "    group_chunks(seqs[cut:], bs),\n",
        "    bs=bs,\n",
        "    drop_last=True,\n",
        "    shuffle=False)"
      ]
    },
    {
      "cell_type": "code",
      "execution_count": null,
      "id": "e58a8b2d-2675-4263-9b09-20a9e7c729e3",
      "metadata": {
        "id": "e58a8b2d-2675-4263-9b09-20a9e7c729e3",
        "outputId": "009ba2cc-53ba-4e0a-84bb-1fc073eb22b0"
      },
      "outputs": [
        {
          "data": {
            "text/html": [
              "\n",
              "<style>\n",
              "    /* Turns off some styling */\n",
              "    progress {\n",
              "        /* gets rid of default border in Firefox and Opera. */\n",
              "        border: none;\n",
              "        /* Needs to be in here for Safari polyfill so background images work as expected. */\n",
              "        background-size: auto;\n",
              "    }\n",
              "    progress:not([value]), progress:not([value])::-webkit-progress-bar {\n",
              "        background: repeating-linear-gradient(45deg, #7e7e7e, #7e7e7e 10px, #5c5c5c 10px, #5c5c5c 20px);\n",
              "    }\n",
              "    .progress-bar-interrupted, .progress-bar-interrupted::-webkit-progress-bar {\n",
              "        background: #F44336;\n",
              "    }\n",
              "</style>\n"
            ],
            "text/plain": [
              "<IPython.core.display.HTML object>"
            ]
          },
          "metadata": {},
          "output_type": "display_data"
        },
        {
          "data": {
            "text/html": [
              "\n",
              "    <div>\n",
              "      <progress value='0' class='' max='10' style='width:300px; height:20px; vertical-align: middle;'></progress>\n",
              "      0.00% [0/10 00:00&lt;?]\n",
              "    </div>\n",
              "    \n",
              "<table border=\"1\" class=\"dataframe\">\n",
              "  <thead>\n",
              "    <tr style=\"text-align: left;\">\n",
              "      <th>epoch</th>\n",
              "      <th>train_loss</th>\n",
              "      <th>valid_loss</th>\n",
              "      <th>accuracy</th>\n",
              "      <th>time</th>\n",
              "    </tr>\n",
              "  </thead>\n",
              "  <tbody>\n",
              "  </tbody>\n",
              "</table><p>\n",
              "\n",
              "    <div>\n",
              "      <progress value='0' class='' max='3500' style='width:300px; height:20px; vertical-align: middle;'></progress>\n",
              "      0.00% [0/3500 00:00&lt;?]\n",
              "    </div>\n",
              "    "
            ],
            "text/plain": [
              "<IPython.core.display.HTML object>"
            ]
          },
          "metadata": {},
          "output_type": "display_data"
        }
      ],
      "source": [
        "learn = Learner(dls, LMModel3(len(vocab), bs), loss_func=F.cross_entropy,\n",
        "                metrics=accuracy, cbs=ModelResetter)\n",
        "learn.fit_one_cycle(10, 3e-3)"
      ]
    },
    {
      "cell_type": "code",
      "execution_count": null,
      "id": "2a0e5cd9-e39d-4f3e-871b-f85b9c2ab957",
      "metadata": {
        "id": "2a0e5cd9-e39d-4f3e-871b-f85b9c2ab957"
      },
      "outputs": [],
      "source": []
    }
  ],
  "metadata": {
    "kernelspec": {
      "display_name": "Python 3 (ipykernel)",
      "language": "python",
      "name": "python3"
    },
    "language_info": {
      "codemirror_mode": {
        "name": "ipython",
        "version": 3
      },
      "file_extension": ".py",
      "mimetype": "text/x-python",
      "name": "python",
      "nbconvert_exporter": "python",
      "pygments_lexer": "ipython3",
      "version": "3.12.8"
    },
    "colab": {
      "provenance": [],
      "include_colab_link": true
    }
  },
  "nbformat": 4,
  "nbformat_minor": 5
}